{
 "cells": [
  {
   "cell_type": "code",
   "execution_count": 1,
   "id": "01f0d036-2239-45a2-9189-37d192c27eaa",
   "metadata": {},
   "outputs": [
    {
     "data": {
      "text/plain": [
       "2"
      ]
     },
     "execution_count": 1,
     "metadata": {},
     "output_type": "execute_result"
    }
   ],
   "source": [
    "# ADDITION \n",
    "1+1"
   ]
  },
  {
   "cell_type": "code",
   "execution_count": 2,
   "id": "c96e192e-e82c-4ba1-910b-63a9e45c2dfd",
   "metadata": {},
   "outputs": [
    {
     "data": {
      "text/plain": [
       "1"
      ]
     },
     "execution_count": 2,
     "metadata": {},
     "output_type": "execute_result"
    }
   ],
   "source": [
    "#SUBTRACTION\n",
    "2-1 "
   ]
  },
  {
   "cell_type": "code",
   "execution_count": 3,
   "id": "8245c39f-112d-4cb6-8988-2da7a43093df",
   "metadata": {},
   "outputs": [
    {
     "data": {
      "text/plain": [
       "12"
      ]
     },
     "execution_count": 3,
     "metadata": {},
     "output_type": "execute_result"
    }
   ],
   "source": [
    "#MULTIPLY\n",
    "3*4"
   ]
  },
  {
   "cell_type": "code",
   "execution_count": 4,
   "id": "4b8ae544-3183-4fd9-8576-19e4471d00b6",
   "metadata": {},
   "outputs": [
    {
     "data": {
      "text/plain": [
       "2.0"
      ]
     },
     "execution_count": 4,
     "metadata": {},
     "output_type": "execute_result"
    }
   ],
   "source": [
    "#DIVISION\n",
    "8 / 4"
   ]
  },
  {
   "cell_type": "code",
   "execution_count": 5,
   "id": "9770533c-14f1-4bde-992a-42c707bbdf63",
   "metadata": {},
   "outputs": [
    {
     "data": {
      "text/plain": [
       "1.6"
      ]
     },
     "execution_count": 5,
     "metadata": {},
     "output_type": "execute_result"
    }
   ],
   "source": [
    "8 / 5 #float division"
   ]
  },
  {
   "cell_type": "code",
   "execution_count": 6,
   "id": "f81ae13f-5ba3-417b-b452-5c3a28da25a0",
   "metadata": {},
   "outputs": [
    {
     "data": {
      "text/plain": [
       "2.0"
      ]
     },
     "execution_count": 6,
     "metadata": {},
     "output_type": "execute_result"
    }
   ],
   "source": [
    "8/4 ## float division"
   ]
  },
  {
   "cell_type": "code",
   "execution_count": 7,
   "id": "9d09b297-c00d-41f5-835c-98a4fad05409",
   "metadata": {},
   "outputs": [
    {
     "data": {
      "text/plain": [
       "2"
      ]
     },
     "execution_count": 7,
     "metadata": {},
     "output_type": "execute_result"
    }
   ],
   "source": [
    "8 // 4 #integer division"
   ]
  },
  {
   "cell_type": "code",
   "execution_count": 8,
   "id": "92cde9d9-ad09-4fba-8b43-056700963795",
   "metadata": {},
   "outputs": [
    {
     "data": {
      "text/plain": [
       "10"
      ]
     },
     "execution_count": 8,
     "metadata": {},
     "output_type": "execute_result"
    }
   ],
   "source": [
    "8 + 9 - 7"
   ]
  },
  {
   "cell_type": "code",
   "execution_count": 9,
   "id": "173bc583-1e3d-42a1-8db3-cdcdf88a5044",
   "metadata": {},
   "outputs": [
    {
     "ename": "SyntaxError",
     "evalue": "invalid syntax (1156426425.py, line 1)",
     "output_type": "error",
     "traceback": [
      "\u001b[1;36m  Cell \u001b[1;32mIn[9], line 1\u001b[1;36m\u001b[0m\n\u001b[1;33m    8 + 8 -\u001b[0m\n\u001b[1;37m            ^\u001b[0m\n\u001b[1;31mSyntaxError\u001b[0m\u001b[1;31m:\u001b[0m invalid syntax\n"
     ]
    }
   ],
   "source": [
    "8 + 8 - \n",
    "#syntax error:"
   ]
  },
  {
   "cell_type": "code",
   "execution_count": 101,
   "id": "1839c932-9565-4df2-b8f0-d4c303c94402",
   "metadata": {},
   "outputs": [
    {
     "data": {
      "text/plain": [
       "30"
      ]
     },
     "execution_count": 101,
     "metadata": {},
     "output_type": "execute_result"
    }
   ],
   "source": [
    "5 + 5 * 5"
   ]
  },
  {
   "cell_type": "code",
   "execution_count": 102,
   "id": "5059bf5f-c5d7-427d-a720-278d7ae0fb2e",
   "metadata": {},
   "outputs": [
    {
     "data": {
      "text/plain": [
       "50"
      ]
     },
     "execution_count": 102,
     "metadata": {},
     "output_type": "execute_result"
    }
   ],
   "source": [
    "(5 + 5) * 5 # BODMAS"
   ]
  },
  {
   "cell_type": "code",
   "execution_count": 104,
   "id": "8238685d-084c-4978-b5e9-5e20a1771ef1",
   "metadata": {},
   "outputs": [
    {
     "data": {
      "text/plain": [
       "32"
      ]
     },
     "execution_count": 104,
     "metadata": {},
     "output_type": "execute_result"
    }
   ],
   "source": [
    "2 * 2 * 2 * 2 * 2 # exponentaion"
   ]
  },
  {
   "cell_type": "code",
   "execution_count": 105,
   "id": "42ec5f89-6a47-4e71-a7fd-ebff119e8524",
   "metadata": {},
   "outputs": [
    {
     "data": {
      "text/plain": [
       "32"
      ]
     },
     "execution_count": 105,
     "metadata": {},
     "output_type": "execute_result"
    }
   ],
   "source": [
    "2 ** 5"
   ]
  },
  {
   "cell_type": "code",
   "execution_count": 106,
   "id": "34a68ffa-2ff0-4dcf-a82e-bf5b13b57a0a",
   "metadata": {},
   "outputs": [
    {
     "data": {
      "text/plain": [
       "5.0"
      ]
     },
     "execution_count": 106,
     "metadata": {},
     "output_type": "execute_result"
    }
   ],
   "source": [
    "15 / 3"
   ]
  },
  {
   "cell_type": "code",
   "execution_count": 107,
   "id": "160c0376-f987-4299-bfef-96372dc535f3",
   "metadata": {},
   "outputs": [
    {
     "data": {
      "text/plain": [
       "3"
      ]
     },
     "execution_count": 107,
     "metadata": {},
     "output_type": "execute_result"
    }
   ],
   "source": [
    "10 // 3 "
   ]
  },
  {
   "cell_type": "code",
   "execution_count": 108,
   "id": "f12a6f68-e152-415b-9273-abfe05e3cbfe",
   "metadata": {},
   "outputs": [
    {
     "data": {
      "text/plain": [
       "0"
      ]
     },
     "execution_count": 108,
     "metadata": {},
     "output_type": "execute_result"
    }
   ],
   "source": [
    "14 % 2 # Modulus "
   ]
  },
  {
   "cell_type": "code",
   "execution_count": 109,
   "id": "941b1698-05fc-404c-ac37-f82dc50e8b3e",
   "metadata": {},
   "outputs": [
    {
     "data": {
      "text/plain": [
       "1"
      ]
     },
     "execution_count": 109,
     "metadata": {},
     "output_type": "execute_result"
    }
   ],
   "source": [
    "15 % 2"
   ]
  },
  {
   "cell_type": "code",
   "execution_count": 112,
   "id": "be584da8-b419-4e53-a543-24c6b0bff297",
   "metadata": {},
   "outputs": [
    {
     "name": "stdout",
     "output_type": "stream",
     "text": [
      "15\n",
      "7.8\n",
      "nit\n",
      "(8+9j)\n",
      "True\n"
     ]
    }
   ],
   "source": [
    "a,b,c,d,e = 15, 7.8, 'nit', 8+9j, True\n",
    "\n",
    "print(a)\n",
    "print(b)\n",
    "print(c)\n",
    "print(d)\n",
    "print(e)"
   ]
  },
  {
   "cell_type": "code",
   "execution_count": 118,
   "id": "ff922264-72b0-4029-bbc4-7d3da71837bb",
   "metadata": {},
   "outputs": [
    {
     "name": "stdout",
     "output_type": "stream",
     "text": [
      "<class 'int'>\n",
      "<class 'float'>\n",
      "<class 'str'>\n",
      "<class 'complex'>\n",
      "<class 'bool'>\n"
     ]
    }
   ],
   "source": [
    "print(type(a))\n",
    "print(type(b))\n",
    "print(type(c))\n",
    "print(type(d))\n",
    "print(type(e))"
   ]
  },
  {
   "cell_type": "code",
   "execution_count": 121,
   "id": "7eb70aea-f0a9-429c-b402-0713338c8c29",
   "metadata": {},
   "outputs": [
    {
     "data": {
      "text/plain": [
       "str"
      ]
     },
     "execution_count": 121,
     "metadata": {},
     "output_type": "execute_result"
    }
   ],
   "source": [
    "type(c)"
   ]
  },
  {
   "cell_type": "code",
   "execution_count": 123,
   "id": "5f01c785-aac4-46e8-8ad7-74a4dcf616d4",
   "metadata": {},
   "outputs": [
    {
     "data": {
      "text/plain": [
       "5"
      ]
     },
     "execution_count": 123,
     "metadata": {},
     "output_type": "execute_result"
    }
   ],
   "source": [
    "a = 2\n",
    "b = 3\n",
    "\n",
    "a + b"
   ]
  },
  {
   "cell_type": "code",
   "execution_count": 126,
   "id": "3718b4b3-6afe-415d-b488-959db1355e1d",
   "metadata": {},
   "outputs": [
    {
     "data": {
      "text/plain": [
       "5"
      ]
     },
     "execution_count": 126,
     "metadata": {},
     "output_type": "execute_result"
    }
   ],
   "source": [
    "c = a + b\n",
    "c"
   ]
  },
  {
   "cell_type": "code",
   "execution_count": 128,
   "id": "8fb76fef-f425-4921-85fc-3798c78df411",
   "metadata": {},
   "outputs": [
    {
     "data": {
      "text/plain": [
       "str"
      ]
     },
     "execution_count": 128,
     "metadata": {},
     "output_type": "execute_result"
    }
   ],
   "source": [
    "a = 3\n",
    "b = 'hi'\n",
    "type(b)"
   ]
  },
  {
   "cell_type": "code",
   "execution_count": 130,
   "id": "37e9d3d9-5ad7-4d9e-a357-1f8d1c09ffde",
   "metadata": {},
   "outputs": [
    {
     "data": {
      "text/plain": [
       "' HIE  HIE  HIE  HIE  HIE '"
      ]
     },
     "execution_count": 130,
     "metadata": {},
     "output_type": "execute_result"
    }
   ],
   "source": [
    "#5 time print\n",
    "5 * ' HIE '"
   ]
  },
  {
   "cell_type": "code",
   "execution_count": 132,
   "id": "4821f108-0899-46f9-860d-1cfab94fd35c",
   "metadata": {},
   "outputs": [
    {
     "name": "stdout",
     "output_type": "stream",
     "text": [
      "GO \n",
      "THERE\n"
     ]
    }
   ],
   "source": [
    "print('GO \\nTHERE') #\\n for line change"
   ]
  },
  {
   "cell_type": "code",
   "execution_count": 134,
   "id": "b96998e4-c6f5-435e-84e5-5e23b77ead15",
   "metadata": {},
   "outputs": [
    {
     "name": "stdout",
     "output_type": "stream",
     "text": [
      "GO \\nTHERE\n"
     ]
    }
   ],
   "source": [
    "print(r'GO \\nTHERE') #raw string"
   ]
  },
  {
   "cell_type": "code",
   "execution_count": 136,
   "id": "312b70b6-a7cf-4725-8e55-e15c1d1d7ea2",
   "metadata": {},
   "outputs": [
    {
     "data": {
      "text/plain": [
       "2"
      ]
     },
     "execution_count": 136,
     "metadata": {},
     "output_type": "execute_result"
    }
   ],
   "source": [
    "x = 2 #x is variable/identifier/objec, 2 is the value\n",
    "x"
   ]
  },
  {
   "cell_type": "code",
   "execution_count": 138,
   "id": "906c2129-c691-4bae-9b6a-5f0e23153800",
   "metadata": {},
   "outputs": [
    {
     "data": {
      "text/plain": [
       "5"
      ]
     },
     "execution_count": 138,
     "metadata": {},
     "output_type": "execute_result"
    }
   ],
   "source": [
    "x + 3"
   ]
  },
  {
   "cell_type": "code",
   "execution_count": 140,
   "id": "c3cc03c7-9f79-4600-8a7e-2be394805047",
   "metadata": {},
   "outputs": [
    {
     "data": {
      "text/plain": [
       "3"
      ]
     },
     "execution_count": 140,
     "metadata": {},
     "output_type": "execute_result"
    }
   ],
   "source": [
    "y = 3\n",
    "y"
   ]
  },
  {
   "cell_type": "code",
   "execution_count": 142,
   "id": "ae3a2342-be9b-445c-8e30-8b64ad054261",
   "metadata": {},
   "outputs": [
    {
     "data": {
      "text/plain": [
       "5"
      ]
     },
     "execution_count": 142,
     "metadata": {},
     "output_type": "execute_result"
    }
   ],
   "source": [
    "x + y\n"
   ]
  },
  {
   "cell_type": "code",
   "execution_count": 144,
   "id": "25e1dac7-4d3c-448d-a849-48f357db7c5d",
   "metadata": {},
   "outputs": [],
   "source": [
    "# string variable \n",
    "name = 'mit'"
   ]
  },
  {
   "cell_type": "code",
   "execution_count": 146,
   "id": "a779023a-0e70-4197-9f3f-e9b7b38b6b55",
   "metadata": {},
   "outputs": [
    {
     "data": {
      "text/plain": [
       "'mit technology'"
      ]
     },
     "execution_count": 146,
     "metadata": {},
     "output_type": "execute_result"
    }
   ],
   "source": [
    "name + ' technology'"
   ]
  },
  {
   "cell_type": "code",
   "execution_count": 148,
   "id": "b2b08f09-b521-4284-a7ba-3e0d571f96ce",
   "metadata": {},
   "outputs": [
    {
     "ename": "SyntaxError",
     "evalue": "invalid syntax (3186014715.py, line 1)",
     "output_type": "error",
     "traceback": [
      "\u001b[1;36m  Cell \u001b[1;32mIn[148], line 1\u001b[1;36m\u001b[0m\n\u001b[1;33m    name 'technology'\u001b[0m\n\u001b[1;37m         ^\u001b[0m\n\u001b[1;31mSyntaxError\u001b[0m\u001b[1;31m:\u001b[0m invalid syntax\n"
     ]
    }
   ],
   "source": [
    "name 'technology'"
   ]
  },
  {
   "cell_type": "code",
   "execution_count": 150,
   "id": "adb4495e-40e4-4154-a8ca-a9c34f1043a1",
   "metadata": {},
   "outputs": [
    {
     "data": {
      "text/plain": [
       "3"
      ]
     },
     "execution_count": 150,
     "metadata": {},
     "output_type": "execute_result"
    }
   ],
   "source": [
    "len(name)"
   ]
  },
  {
   "cell_type": "code",
   "execution_count": 152,
   "id": "554adf28-c503-4b78-b737-e202199129f5",
   "metadata": {},
   "outputs": [
    {
     "data": {
      "text/plain": [
       "'m'"
      ]
     },
     "execution_count": 152,
     "metadata": {},
     "output_type": "execute_result"
    }
   ],
   "source": [
    "name[0] #python index begins with 0"
   ]
  },
  {
   "cell_type": "code",
   "execution_count": 154,
   "id": "6939503a-2a38-4b8a-9884-2be40c20d2db",
   "metadata": {},
   "outputs": [
    {
     "ename": "IndexError",
     "evalue": "string index out of range",
     "output_type": "error",
     "traceback": [
      "\u001b[1;31m---------------------------------------------------------------------------\u001b[0m",
      "\u001b[1;31mIndexError\u001b[0m                                Traceback (most recent call last)",
      "Cell \u001b[1;32mIn[154], line 1\u001b[0m\n\u001b[1;32m----> 1\u001b[0m name[\u001b[38;5;241m5\u001b[39m]\n",
      "\u001b[1;31mIndexError\u001b[0m: string index out of range"
     ]
    }
   ],
   "source": [
    "name[5]"
   ]
  },
  {
   "cell_type": "code",
   "execution_count": null,
   "id": "1a557ae9-5f8b-4df2-b511-62a900e6c040",
   "metadata": {},
   "outputs": [],
   "source": [
    "name[-1]"
   ]
  },
  {
   "cell_type": "code",
   "execution_count": null,
   "id": "1b40903f-99bb-44e6-b4cf-3e6ad9b0f305",
   "metadata": {},
   "outputs": [],
   "source": [
    "name"
   ]
  },
  {
   "cell_type": "code",
   "execution_count": null,
   "id": "59af2468-f930-428f-bbee-414a4482747b",
   "metadata": {},
   "outputs": [],
   "source": [
    "name[0:1]"
   ]
  },
  {
   "cell_type": "code",
   "execution_count": null,
   "id": "ec9bb7d5-3168-4c61-a840-83bc1994c0ca",
   "metadata": {},
   "outputs": [],
   "source": [
    "name[1:4]"
   ]
  },
  {
   "cell_type": "code",
   "execution_count": null,
   "id": "58c0d3a7-0515-467b-82f0-656143ccf528",
   "metadata": {},
   "outputs": [],
   "source": [
    "name[1:]"
   ]
  },
  {
   "cell_type": "code",
   "execution_count": null,
   "id": "a904543b-4bf7-4646-a435-1f688bac73d2",
   "metadata": {},
   "outputs": [],
   "source": [
    "name[:4]"
   ]
  },
  {
   "cell_type": "code",
   "execution_count": 162,
   "id": "ec5d14ea-2be7-4201-99b8-886c0e7e005f",
   "metadata": {},
   "outputs": [
    {
     "data": {
      "text/plain": [
       "'fine'"
      ]
     },
     "execution_count": 162,
     "metadata": {},
     "output_type": "execute_result"
    }
   ],
   "source": [
    "name1 = 'fine'\n",
    "name1"
   ]
  },
  {
   "cell_type": "code",
   "execution_count": 164,
   "id": "4d6050db-6cb6-4070-86d1-c75e2feb2bfe",
   "metadata": {},
   "outputs": [
    {
     "data": {
      "text/plain": [
       "'fine'"
      ]
     },
     "execution_count": 164,
     "metadata": {},
     "output_type": "execute_result"
    }
   ],
   "source": [
    "name1"
   ]
  },
  {
   "cell_type": "code",
   "execution_count": 166,
   "id": "2a630c74-4e2d-4234-91ff-df36c8ecb6aa",
   "metadata": {},
   "outputs": [
    {
     "data": {
      "text/plain": [
       "'ine'"
      ]
     },
     "execution_count": 166,
     "metadata": {},
     "output_type": "execute_result"
    }
   ],
   "source": [
    "name1[1:]"
   ]
  },
  {
   "cell_type": "code",
   "execution_count": 168,
   "id": "e3fabaec-c789-41a4-a7de-063a52193fe8",
   "metadata": {},
   "outputs": [
    {
     "data": {
      "text/plain": [
       "'dine'"
      ]
     },
     "execution_count": 168,
     "metadata": {},
     "output_type": "execute_result"
    }
   ],
   "source": [
    "'d' + name1[1:]"
   ]
  },
  {
   "cell_type": "code",
   "execution_count": 170,
   "id": "6552bc2c-b6e7-4486-8fda-7c1e01f9f7af",
   "metadata": {},
   "outputs": [
    {
     "data": {
      "text/plain": [
       "4"
      ]
     },
     "execution_count": 170,
     "metadata": {},
     "output_type": "execute_result"
    }
   ],
   "source": [
    "len(name1)"
   ]
  },
  {
   "cell_type": "code",
   "execution_count": 172,
   "id": "b4c6a996-648c-4f59-962e-562c40d9e372",
   "metadata": {},
   "outputs": [
    {
     "data": {
      "text/plain": [
       "[10, 20, 30]"
      ]
     },
     "execution_count": 172,
     "metadata": {},
     "output_type": "execute_result"
    }
   ],
   "source": [
    "# LIST LIST LIST\n",
    "nums = [10,20,30]\n",
    "nums"
   ]
  },
  {
   "cell_type": "code",
   "execution_count": 174,
   "id": "bfebd567-051c-46a1-b3c7-f660c28fe64b",
   "metadata": {},
   "outputs": [
    {
     "data": {
      "text/plain": [
       "10"
      ]
     },
     "execution_count": 174,
     "metadata": {},
     "output_type": "execute_result"
    }
   ],
   "source": [
    "nums[0]"
   ]
  },
  {
   "cell_type": "code",
   "execution_count": 176,
   "id": "6a1dd7f4-c744-428c-9306-ffcd8c646f63",
   "metadata": {},
   "outputs": [
    {
     "data": {
      "text/plain": [
       "['hi', 'hallo']"
      ]
     },
     "execution_count": 176,
     "metadata": {},
     "output_type": "execute_result"
    }
   ],
   "source": [
    "num1 = ['hi', 'hallo']\n",
    "num1"
   ]
  },
  {
   "cell_type": "code",
   "execution_count": 178,
   "id": "2a4a2167-c19d-45b7-9d20-0d879490ac0c",
   "metadata": {},
   "outputs": [
    {
     "data": {
      "text/plain": [
       "['hi', 8.9, 34]"
      ]
     },
     "execution_count": 178,
     "metadata": {},
     "output_type": "execute_result"
    }
   ],
   "source": [
    "num2 = ['hi', 8.9, 34] # we can assign multiple variable \n",
    "num2"
   ]
  },
  {
   "cell_type": "code",
   "execution_count": 180,
   "id": "ac12ca87-8897-4fe1-bd20-9648308440e9",
   "metadata": {},
   "outputs": [],
   "source": [
    "# can we have 2 list together\n",
    "num3 = [nums, num1]"
   ]
  },
  {
   "cell_type": "code",
   "execution_count": 182,
   "id": "9d21f5b0-0228-42e1-98fc-ca5e7a767d79",
   "metadata": {},
   "outputs": [
    {
     "data": {
      "text/plain": [
       "[[10, 20, 30], ['hi', 'hallo']]"
      ]
     },
     "execution_count": 182,
     "metadata": {},
     "output_type": "execute_result"
    }
   ],
   "source": [
    "num3"
   ]
  },
  {
   "cell_type": "code",
   "execution_count": 184,
   "id": "ac9413d5-369e-4ec6-b8d5-d72de541ee45",
   "metadata": {},
   "outputs": [
    {
     "data": {
      "text/plain": [
       "[[10, 20, 30], ['hi', 'hallo'], ['hi', 8.9, 34]]"
      ]
     },
     "execution_count": 184,
     "metadata": {},
     "output_type": "execute_result"
    }
   ],
   "source": [
    "num4 = [nums, num1, num2]\n",
    "num4"
   ]
  },
  {
   "cell_type": "code",
   "execution_count": 186,
   "id": "2fa0f9b7-57b6-44b3-bf78-c1b0dbea2299",
   "metadata": {},
   "outputs": [],
   "source": [
    "nums.append(45)"
   ]
  },
  {
   "cell_type": "code",
   "execution_count": 188,
   "id": "02a4a86d-4283-4fa0-9d69-a11928fe9209",
   "metadata": {},
   "outputs": [
    {
     "data": {
      "text/plain": [
       "[10, 20, 30, 45]"
      ]
     },
     "execution_count": 188,
     "metadata": {},
     "output_type": "execute_result"
    }
   ],
   "source": [
    "nums"
   ]
  },
  {
   "cell_type": "code",
   "execution_count": 190,
   "id": "a7d7a5b2-0427-4e23-96e6-7a4599982009",
   "metadata": {},
   "outputs": [
    {
     "data": {
      "text/plain": [
       "[10, 20, 30]"
      ]
     },
     "execution_count": 190,
     "metadata": {},
     "output_type": "execute_result"
    }
   ],
   "source": [
    "nums.remove(45)\n",
    "nums"
   ]
  },
  {
   "cell_type": "code",
   "execution_count": 192,
   "id": "0f7b0c94-a75d-4c1e-b823-4321969b9810",
   "metadata": {},
   "outputs": [
    {
     "data": {
      "text/plain": [
       "20"
      ]
     },
     "execution_count": 192,
     "metadata": {},
     "output_type": "execute_result"
    }
   ],
   "source": [
    "nums.pop(1)"
   ]
  },
  {
   "cell_type": "code",
   "execution_count": 194,
   "id": "a57e15b1-c61c-4a12-b9db-2482bfd1f195",
   "metadata": {},
   "outputs": [
    {
     "data": {
      "text/plain": [
       "30"
      ]
     },
     "execution_count": 194,
     "metadata": {},
     "output_type": "execute_result"
    }
   ],
   "source": [
    "nums.pop() \n",
    "#if you dont assign the index element then it will consider by default last index"
   ]
  },
  {
   "cell_type": "code",
   "execution_count": 196,
   "id": "189960e7-c5ca-463c-b157-ee3230341b44",
   "metadata": {},
   "outputs": [
    {
     "data": {
      "text/plain": [
       "[10]"
      ]
     },
     "execution_count": 196,
     "metadata": {},
     "output_type": "execute_result"
    }
   ],
   "source": [
    "nums"
   ]
  },
  {
   "cell_type": "code",
   "execution_count": 198,
   "id": "ad0fedbd-86b4-4c9b-9475-91ee8151cbd8",
   "metadata": {},
   "outputs": [
    {
     "data": {
      "text/plain": [
       "['hi', 'hallo']"
      ]
     },
     "execution_count": 198,
     "metadata": {},
     "output_type": "execute_result"
    }
   ],
   "source": [
    "num1"
   ]
  },
  {
   "cell_type": "code",
   "execution_count": 200,
   "id": "b8bdedd8-1637-49b4-b142-9d2f4cf7b32e",
   "metadata": {},
   "outputs": [],
   "source": [
    "num1.insert(2, 'HIT')\n",
    "#insert the value as per index values i.e 2nd index we are assigning nit"
   ]
  },
  {
   "cell_type": "code",
   "execution_count": 202,
   "id": "96a21a97-9c12-4921-a9e9-2552ea517958",
   "metadata": {},
   "outputs": [
    {
     "data": {
      "text/plain": [
       "['hi', 'hallo', 'HIT']"
      ]
     },
     "execution_count": 202,
     "metadata": {},
     "output_type": "execute_result"
    }
   ],
   "source": [
    "num1"
   ]
  },
  {
   "cell_type": "code",
   "execution_count": 204,
   "id": "c479e772-06ff-4cd2-b1ea-82103807098f",
   "metadata": {},
   "outputs": [
    {
     "data": {
      "text/plain": [
       "[1, 'hi', 'hallo', 'HIT']"
      ]
     },
     "execution_count": 204,
     "metadata": {},
     "output_type": "execute_result"
    }
   ],
   "source": [
    "num1.insert(0, 1)\n",
    "num1"
   ]
  },
  {
   "cell_type": "code",
   "execution_count": 206,
   "id": "8b2ebaab-5294-4ea9-9fe1-b8f95eaf270a",
   "metadata": {},
   "outputs": [
    {
     "data": {
      "text/plain": [
       "['hi', 8.9, 34]"
      ]
     },
     "execution_count": 206,
     "metadata": {},
     "output_type": "execute_result"
    }
   ],
   "source": [
    "#if you want to delate multiple value \n",
    "num2"
   ]
  },
  {
   "cell_type": "code",
   "execution_count": 208,
   "id": "a96febcc-6173-42f4-89dc-460981cb561e",
   "metadata": {},
   "outputs": [],
   "source": [
    "del num2[2:]"
   ]
  },
  {
   "cell_type": "code",
   "execution_count": 210,
   "id": "af53da3c-d7eb-42b5-b815-4b5c1967e772",
   "metadata": {},
   "outputs": [
    {
     "data": {
      "text/plain": [
       "['hi', 8.9]"
      ]
     },
     "execution_count": 210,
     "metadata": {},
     "output_type": "execute_result"
    }
   ],
   "source": [
    "num2"
   ]
  },
  {
   "cell_type": "code",
   "execution_count": 212,
   "id": "54dbdf23-2107-4d7f-9995-0d4673349464",
   "metadata": {},
   "outputs": [
    {
     "data": {
      "text/plain": [
       "['hi', 8.9, 29, 15, 20]"
      ]
     },
     "execution_count": 212,
     "metadata": {},
     "output_type": "execute_result"
    }
   ],
   "source": [
    "# if you need to add multiple values \n",
    "num2.extend([29,15,20])\n",
    "num2"
   ]
  },
  {
   "cell_type": "code",
   "execution_count": 214,
   "id": "ea050be1-4226-49de-99b3-0a0def8fb9fb",
   "metadata": {},
   "outputs": [
    {
     "data": {
      "text/plain": [
       "[[10], [1, 'hi', 'hallo', 'HIT']]"
      ]
     },
     "execution_count": 214,
     "metadata": {},
     "output_type": "execute_result"
    }
   ],
   "source": [
    "num3"
   ]
  },
  {
   "cell_type": "code",
   "execution_count": 216,
   "id": "4ab37974-0431-48ef-a844-c151cc313866",
   "metadata": {},
   "outputs": [
    {
     "data": {
      "text/plain": [
       "[[10], [1, 'hi', 'hallo', 'HIT'], 'a', 5, 6.7]"
      ]
     },
     "execution_count": 216,
     "metadata": {},
     "output_type": "execute_result"
    }
   ],
   "source": [
    "num3.extend(['a', 5, 6.7])\n",
    "num3"
   ]
  },
  {
   "cell_type": "code",
   "execution_count": 218,
   "id": "13de81f1-f1a6-47df-b991-cdec66deec14",
   "metadata": {},
   "outputs": [
    {
     "data": {
      "text/plain": [
       "[10]"
      ]
     },
     "execution_count": 218,
     "metadata": {},
     "output_type": "execute_result"
    }
   ],
   "source": [
    "nums"
   ]
  },
  {
   "cell_type": "code",
   "execution_count": 220,
   "id": "2d528ce1-da0b-4627-ad88-3aae7e91daf1",
   "metadata": {},
   "outputs": [
    {
     "data": {
      "text/plain": [
       "10"
      ]
     },
     "execution_count": 220,
     "metadata": {},
     "output_type": "execute_result"
    }
   ],
   "source": [
    "min(nums)"
   ]
  },
  {
   "cell_type": "code",
   "execution_count": 222,
   "id": "18309825-d748-46e6-a0b5-c05d53618c9f",
   "metadata": {},
   "outputs": [
    {
     "data": {
      "text/plain": [
       "10"
      ]
     },
     "execution_count": 222,
     "metadata": {},
     "output_type": "execute_result"
    }
   ],
   "source": [
    "max(nums)"
   ]
  },
  {
   "cell_type": "code",
   "execution_count": 224,
   "id": "4304d29e-3df6-445f-88ba-c7d3ac472652",
   "metadata": {},
   "outputs": [
    {
     "data": {
      "text/plain": [
       "10"
      ]
     },
     "execution_count": 224,
     "metadata": {},
     "output_type": "execute_result"
    }
   ],
   "source": [
    "sum(nums) #inbuild function"
   ]
  },
  {
   "cell_type": "code",
   "execution_count": 226,
   "id": "52c1acb5-7bab-4e18-bcc5-38e249cfef2e",
   "metadata": {},
   "outputs": [
    {
     "data": {
      "text/plain": [
       "[10]"
      ]
     },
     "execution_count": 226,
     "metadata": {},
     "output_type": "execute_result"
    }
   ],
   "source": [
    "nums.sort() #sort method\n",
    "nums"
   ]
  },
  {
   "cell_type": "code",
   "execution_count": 228,
   "id": "bd92f5c1-1883-4a0a-8e02-1576a9564bd0",
   "metadata": {},
   "outputs": [
    {
     "data": {
      "text/plain": [
       "(15, 25, 35)"
      ]
     },
     "execution_count": 228,
     "metadata": {},
     "output_type": "execute_result"
    }
   ],
   "source": [
    "# TUPLE \n",
    "tup = (15,25, 35)\n",
    "tup"
   ]
  },
  {
   "cell_type": "code",
   "execution_count": 230,
   "id": "d194ddb1-f377-42bd-ae31-c932239648fb",
   "metadata": {},
   "outputs": [
    {
     "data": {
      "text/plain": [
       "15"
      ]
     },
     "execution_count": 230,
     "metadata": {},
     "output_type": "execute_result"
    }
   ],
   "source": [
    "tup[0]"
   ]
  },
  {
   "cell_type": "code",
   "execution_count": 232,
   "id": "1ec8cd3d-a18d-4377-a84d-15a4fba37a85",
   "metadata": {},
   "outputs": [
    {
     "ename": "TypeError",
     "evalue": "'tuple' object does not support item assignment",
     "output_type": "error",
     "traceback": [
      "\u001b[1;31m---------------------------------------------------------------------------\u001b[0m",
      "\u001b[1;31mTypeError\u001b[0m                                 Traceback (most recent call last)",
      "Cell \u001b[1;32mIn[232], line 1\u001b[0m\n\u001b[1;32m----> 1\u001b[0m tup[\u001b[38;5;241m0\u001b[39m] \u001b[38;5;241m=\u001b[39m \u001b[38;5;241m10\u001b[39m\n",
      "\u001b[1;31mTypeError\u001b[0m: 'tuple' object does not support item assignment"
     ]
    }
   ],
   "source": [
    "tup[0] = 10\n",
    "#s we are unable to change any value or parameter in tuple so iteration very faster in tuple compare to list"
   ]
  },
  {
   "cell_type": "code",
   "execution_count": 234,
   "id": "c4e690d2-e60c-4807-8ccd-826ff26c3215",
   "metadata": {},
   "outputs": [],
   "source": [
    "# SET SET SET \n",
    "S = {}"
   ]
  },
  {
   "cell_type": "code",
   "execution_count": 236,
   "id": "42d6cb48-dcce-4416-b67a-90293988e300",
   "metadata": {},
   "outputs": [
    {
     "data": {
      "text/plain": [
       "{5, 6, 21, 34, 58}"
      ]
     },
     "execution_count": 236,
     "metadata": {},
     "output_type": "execute_result"
    }
   ],
   "source": [
    "s1 = {21,6,34,58,5} \n",
    "s1"
   ]
  },
  {
   "cell_type": "code",
   "execution_count": 238,
   "id": "c1b4da13-ed98-43ff-881d-8b8a7110a6db",
   "metadata": {},
   "outputs": [
    {
     "data": {
      "text/plain": [
       "{35, 50, 53, 'nit'}"
      ]
     },
     "execution_count": 238,
     "metadata": {},
     "output_type": "execute_result"
    }
   ],
   "source": [
    "s3= {50,35,53,'nit', 53}\n",
    "s3"
   ]
  },
  {
   "cell_type": "code",
   "execution_count": 240,
   "id": "9f50d9a8-8f0e-4c62-9c04-bf304576be14",
   "metadata": {},
   "outputs": [
    {
     "ename": "TypeError",
     "evalue": "'set' object is not subscriptable",
     "output_type": "error",
     "traceback": [
      "\u001b[1;31m---------------------------------------------------------------------------\u001b[0m",
      "\u001b[1;31mTypeError\u001b[0m                                 Traceback (most recent call last)",
      "Cell \u001b[1;32mIn[240], line 1\u001b[0m\n\u001b[1;32m----> 1\u001b[0m s1[\u001b[38;5;241m1\u001b[39m]\n",
      "\u001b[1;31mTypeError\u001b[0m: 'set' object is not subscriptable"
     ]
    }
   ],
   "source": [
    "s1[1]\n",
    "#as we dont have proper sequencing thats why indexing not subscriptable"
   ]
  },
  {
   "cell_type": "code",
   "execution_count": 242,
   "id": "cd2971c3-a762-4f4c-91f9-2e82f3d83077",
   "metadata": {},
   "outputs": [
    {
     "data": {
      "text/plain": [
       "{1: 'apple', 2: 'banana', 4: 'orange'}"
      ]
     },
     "execution_count": 242,
     "metadata": {},
     "output_type": "execute_result"
    }
   ],
   "source": [
    "# DICTIONARY \n",
    "data = {1:'apple', 2:'banana',4:'orange'}\n",
    "data"
   ]
  },
  {
   "cell_type": "code",
   "execution_count": 244,
   "id": "e6a2ff9f-8dc1-4167-bc62-3cb563cd4a09",
   "metadata": {},
   "outputs": [
    {
     "data": {
      "text/plain": [
       "'orange'"
      ]
     },
     "execution_count": 244,
     "metadata": {},
     "output_type": "execute_result"
    }
   ],
   "source": [
    "data[4]"
   ]
  },
  {
   "cell_type": "code",
   "execution_count": 246,
   "id": "d5ad71c2-af76-4aa8-90c8-c5339b132734",
   "metadata": {},
   "outputs": [
    {
     "data": {
      "text/plain": [
       "'banana'"
      ]
     },
     "execution_count": 246,
     "metadata": {},
     "output_type": "execute_result"
    }
   ],
   "source": [
    "data.get(2)"
   ]
  },
  {
   "cell_type": "code",
   "execution_count": 248,
   "id": "e035d89d-4c0d-47d4-be8b-7280a0c5b47a",
   "metadata": {},
   "outputs": [
    {
     "name": "stdout",
     "output_type": "stream",
     "text": [
      "orange\n"
     ]
    }
   ],
   "source": [
    "print(data.get(4))"
   ]
  },
  {
   "cell_type": "code",
   "execution_count": 250,
   "id": "4e91d718-033f-4422-9dcf-fa2cfae25f2e",
   "metadata": {},
   "outputs": [
    {
     "data": {
      "text/plain": [
       "'apple'"
      ]
     },
     "execution_count": 250,
     "metadata": {},
     "output_type": "execute_result"
    }
   ],
   "source": [
    "data.get(1,'Not Fount')"
   ]
  },
  {
   "cell_type": "code",
   "execution_count": 252,
   "id": "368b6835-b84f-4ca3-a137-89f04c2d45c6",
   "metadata": {},
   "outputs": [
    {
     "data": {
      "text/plain": [
       "'Not Found'"
      ]
     },
     "execution_count": 252,
     "metadata": {},
     "output_type": "execute_result"
    }
   ],
   "source": [
    "data.get(3,'Not Found')"
   ]
  },
  {
   "cell_type": "code",
   "execution_count": 254,
   "id": "75e053fa-dd8f-4083-9891-f7797358e9bf",
   "metadata": {},
   "outputs": [],
   "source": [
    "data[5] = 'five'"
   ]
  },
  {
   "cell_type": "code",
   "execution_count": 256,
   "id": "8b625ce0-d05f-4006-bf75-e60b2d6d96a3",
   "metadata": {},
   "outputs": [
    {
     "data": {
      "text/plain": [
       "{1: 'apple', 2: 'banana', 4: 'orange', 5: 'five'}"
      ]
     },
     "execution_count": 256,
     "metadata": {},
     "output_type": "execute_result"
    }
   ],
   "source": [
    "data"
   ]
  },
  {
   "cell_type": "code",
   "execution_count": 258,
   "id": "b0707a6d-3155-4494-a17d-1eb22a7412e0",
   "metadata": {},
   "outputs": [],
   "source": [
    "del data [5]"
   ]
  },
  {
   "cell_type": "code",
   "execution_count": 260,
   "id": "eb5a9b3a-2921-47e2-bf32-cd926bfff025",
   "metadata": {},
   "outputs": [
    {
     "data": {
      "text/plain": [
       "{1: 'apple', 2: 'banana', 4: 'orange'}"
      ]
     },
     "execution_count": 260,
     "metadata": {},
     "output_type": "execute_result"
    }
   ],
   "source": [
    "data"
   ]
  },
  {
   "cell_type": "code",
   "execution_count": 262,
   "id": "7c8bc470-1b20-42ea-abde-f7604d613c44",
   "metadata": {},
   "outputs": [],
   "source": [
    "#list in the dictionary\n",
    "prog = {'python':['vscode', 'pycharm'], 'machine learning' :['sklearn'], 'datascience':['jupyter','spyder'] }"
   ]
  },
  {
   "cell_type": "code",
   "execution_count": 264,
   "id": "a0819ac3-e021-4b1c-a431-9588b46a866e",
   "metadata": {},
   "outputs": [
    {
     "data": {
      "text/plain": [
       "{'python': ['vscode', 'pycharm'],\n",
       " 'machine learning': ['sklearn'],\n",
       " 'datascience': ['jupyter', 'spyder']}"
      ]
     },
     "execution_count": 264,
     "metadata": {},
     "output_type": "execute_result"
    }
   ],
   "source": [
    "prog"
   ]
  },
  {
   "cell_type": "code",
   "execution_count": 266,
   "id": "fea0b19f-c698-4bc6-9fa3-9fb49d3ac2cf",
   "metadata": {},
   "outputs": [
    {
     "data": {
      "text/plain": [
       "['vscode', 'pycharm']"
      ]
     },
     "execution_count": 266,
     "metadata": {},
     "output_type": "execute_result"
    }
   ],
   "source": [
    "prog['python']"
   ]
  },
  {
   "cell_type": "code",
   "execution_count": 268,
   "id": "d03e32ee-a3a7-4834-89d6-830dab13d0f1",
   "metadata": {},
   "outputs": [
    {
     "data": {
      "text/plain": [
       "['jupyter', 'spyder']"
      ]
     },
     "execution_count": 268,
     "metadata": {},
     "output_type": "execute_result"
    }
   ],
   "source": [
    "prog['datascience']"
   ]
  },
  {
   "cell_type": "code",
   "execution_count": 270,
   "id": "8848d967-d57a-4475-810c-15afc0206eca",
   "metadata": {},
   "outputs": [
    {
     "data": {
      "text/plain": [
       "140707177179704"
      ]
     },
     "execution_count": 270,
     "metadata": {},
     "output_type": "execute_result"
    }
   ],
   "source": [
    "# variable address\n",
    "num = 5\n",
    "id(num)"
   ]
  },
  {
   "cell_type": "code",
   "execution_count": 272,
   "id": "13db4c98-3b4e-4f50-84ee-1fdd407971cb",
   "metadata": {},
   "outputs": [
    {
     "data": {
      "text/plain": [
       "2352365556656"
      ]
     },
     "execution_count": 272,
     "metadata": {},
     "output_type": "execute_result"
    }
   ],
   "source": [
    "name = 'nit'\n",
    "id(name) #Address will be different for both"
   ]
  },
  {
   "cell_type": "code",
   "execution_count": 274,
   "id": "9e003654-a5ab-452e-bbea-92e86c9576aa",
   "metadata": {},
   "outputs": [
    {
     "data": {
      "text/plain": [
       "140707177179864"
      ]
     },
     "execution_count": 274,
     "metadata": {},
     "output_type": "execute_result"
    }
   ],
   "source": [
    "a = 10\n",
    "id(a)"
   ]
  },
  {
   "cell_type": "code",
   "execution_count": 276,
   "id": "2987d5b0-b573-4f62-864d-ce62bc5d5ac7",
   "metadata": {},
   "outputs": [],
   "source": [
    "b = a #thats why python is more memory efficient "
   ]
  },
  {
   "cell_type": "code",
   "execution_count": 278,
   "id": "4c6c4f72-1f8c-4895-842f-51e860f0de9e",
   "metadata": {},
   "outputs": [
    {
     "data": {
      "text/plain": [
       "140707177179864"
      ]
     },
     "execution_count": 278,
     "metadata": {},
     "output_type": "execute_result"
    }
   ],
   "source": [
    "id(b)"
   ]
  },
  {
   "cell_type": "code",
   "execution_count": 280,
   "id": "7cfe1039-92d8-4920-8659-e2228219604f",
   "metadata": {},
   "outputs": [
    {
     "data": {
      "text/plain": [
       "140707177179864"
      ]
     },
     "execution_count": 280,
     "metadata": {},
     "output_type": "execute_result"
    }
   ],
   "source": [
    "id(10)"
   ]
  },
  {
   "cell_type": "code",
   "execution_count": 282,
   "id": "1d77e280-e1c7-429a-8021-ceb88b745893",
   "metadata": {},
   "outputs": [
    {
     "data": {
      "text/plain": [
       "140707177179864"
      ]
     },
     "execution_count": 282,
     "metadata": {},
     "output_type": "execute_result"
    }
   ],
   "source": [
    "k = 10 \n",
    "id(k)"
   ]
  },
  {
   "cell_type": "code",
   "execution_count": 284,
   "id": "9377f775-40c1-42a3-b14a-67ed917d1c56",
   "metadata": {},
   "outputs": [
    {
     "data": {
      "text/plain": [
       "3.14"
      ]
     },
     "execution_count": 284,
     "metadata": {},
     "output_type": "execute_result"
    }
   ],
   "source": [
    "PI = 3.14  #in math this is alway constant but python we can chang\n",
    "PI"
   ]
  },
  {
   "cell_type": "code",
   "execution_count": 286,
   "id": "b1dbf815-2b08-45ff-b43c-51c04d1e69d3",
   "metadata": {},
   "outputs": [
    {
     "data": {
      "text/plain": [
       "3.18"
      ]
     },
     "execution_count": 286,
     "metadata": {},
     "output_type": "execute_result"
    }
   ],
   "source": [
    "PI = 3.18\n",
    "PI"
   ]
  },
  {
   "cell_type": "code",
   "execution_count": 288,
   "id": "3be83358-26dc-4de1-a7c2-8cc110609327",
   "metadata": {},
   "outputs": [
    {
     "data": {
      "text/plain": [
       "float"
      ]
     },
     "execution_count": 288,
     "metadata": {},
     "output_type": "execute_result"
    }
   ],
   "source": [
    "type(PI)"
   ]
  },
  {
   "cell_type": "code",
   "execution_count": 290,
   "id": "c011ddea-1225-4b13-bf7d-18bfad386d49",
   "metadata": {},
   "outputs": [
    {
     "data": {
      "text/plain": [
       "float"
      ]
     },
     "execution_count": 290,
     "metadata": {},
     "output_type": "execute_result"
    }
   ],
   "source": [
    "w = 2.5\n",
    "type(w)"
   ]
  },
  {
   "cell_type": "code",
   "execution_count": 292,
   "id": "d0a8c2a5-bf98-43c3-a5ea-f4a2f6a78c17",
   "metadata": {},
   "outputs": [
    {
     "data": {
      "text/plain": [
       "10"
      ]
     },
     "execution_count": 292,
     "metadata": {},
     "output_type": "execute_result"
    }
   ],
   "source": [
    "a"
   ]
  },
  {
   "cell_type": "code",
   "execution_count": 294,
   "id": "d934fe80-d99c-42e7-b4d2-36d69269f515",
   "metadata": {},
   "outputs": [
    {
     "data": {
      "text/plain": [
       "10"
      ]
     },
     "execution_count": 294,
     "metadata": {},
     "output_type": "execute_result"
    }
   ],
   "source": [
    "(a)"
   ]
  },
  {
   "cell_type": "code",
   "execution_count": 296,
   "id": "68c9bceb-6299-40ab-a6bc-df71f97eac96",
   "metadata": {},
   "outputs": [
    {
     "data": {
      "text/plain": [
       "complex"
      ]
     },
     "execution_count": 296,
     "metadata": {},
     "output_type": "execute_result"
    }
   ],
   "source": [
    "w2 = 2 + 3j #so hear j is represent as root of -1\n",
    "type(w2)"
   ]
  },
  {
   "cell_type": "code",
   "execution_count": 298,
   "id": "bd6022f9-78e5-48a5-8219-f2d8d2f95729",
   "metadata": {},
   "outputs": [],
   "source": [
    "#convert flot to integer \n",
    "a = 5.6\n",
    "b = int(a)"
   ]
  },
  {
   "cell_type": "code",
   "execution_count": 300,
   "id": "c32353cf-ca77-461d-83af-2013d516da1e",
   "metadata": {},
   "outputs": [
    {
     "data": {
      "text/plain": [
       "5"
      ]
     },
     "execution_count": 300,
     "metadata": {},
     "output_type": "execute_result"
    }
   ],
   "source": [
    "b"
   ]
  },
  {
   "cell_type": "code",
   "execution_count": 302,
   "id": "51d0db13-18b6-4398-a797-b5c3707f198b",
   "metadata": {},
   "outputs": [
    {
     "data": {
      "text/plain": [
       "5.6"
      ]
     },
     "execution_count": 302,
     "metadata": {},
     "output_type": "execute_result"
    }
   ],
   "source": [
    "a"
   ]
  },
  {
   "cell_type": "code",
   "execution_count": 304,
   "id": "b221374e-6dec-4275-96c8-e86e790a30d3",
   "metadata": {},
   "outputs": [
    {
     "data": {
      "text/plain": [
       "int"
      ]
     },
     "execution_count": 304,
     "metadata": {},
     "output_type": "execute_result"
    }
   ],
   "source": [
    "type(b)"
   ]
  },
  {
   "cell_type": "code",
   "execution_count": 306,
   "id": "9d2dd12d-0d0f-4f16-a6fd-2f4f65fb77c1",
   "metadata": {},
   "outputs": [
    {
     "data": {
      "text/plain": [
       "float"
      ]
     },
     "execution_count": 306,
     "metadata": {},
     "output_type": "execute_result"
    }
   ],
   "source": [
    "type(a)"
   ]
  },
  {
   "cell_type": "code",
   "execution_count": 308,
   "id": "968acb95-c2a4-4c77-a403-d00539c92635",
   "metadata": {},
   "outputs": [],
   "source": [
    "k = float(b)"
   ]
  },
  {
   "cell_type": "code",
   "execution_count": 310,
   "id": "5d1e9ad7-d3e3-44a5-bd4e-dd78faac9737",
   "metadata": {},
   "outputs": [
    {
     "data": {
      "text/plain": [
       "5.0"
      ]
     },
     "execution_count": 310,
     "metadata": {},
     "output_type": "execute_result"
    }
   ],
   "source": [
    "k"
   ]
  },
  {
   "cell_type": "code",
   "execution_count": 312,
   "id": "9102fcd2-9240-4d6f-a58f-bc5c32595dec",
   "metadata": {},
   "outputs": [
    {
     "name": "stdout",
     "output_type": "stream",
     "text": [
      "5.6\n",
      "5\n",
      "5.0\n"
     ]
    }
   ],
   "source": [
    "print(a)\n",
    "print(b)\n",
    "print(k)"
   ]
  },
  {
   "cell_type": "code",
   "execution_count": 314,
   "id": "758cfdf7-50fb-403c-97a9-16c8b890ab96",
   "metadata": {},
   "outputs": [],
   "source": [
    "k1 = complex(b,k)"
   ]
  },
  {
   "cell_type": "code",
   "execution_count": 316,
   "id": "35b06240-d299-4470-9f9c-fe907a2cdce3",
   "metadata": {},
   "outputs": [
    {
     "name": "stdout",
     "output_type": "stream",
     "text": [
      "(5+5j)\n"
     ]
    },
    {
     "data": {
      "text/plain": [
       "complex"
      ]
     },
     "execution_count": 316,
     "metadata": {},
     "output_type": "execute_result"
    }
   ],
   "source": [
    "print(k1)\n",
    "type(k1)"
   ]
  },
  {
   "cell_type": "code",
   "execution_count": 318,
   "id": "736652fe-ddaa-43b5-8472-e046204bb803",
   "metadata": {},
   "outputs": [
    {
     "data": {
      "text/plain": [
       "False"
      ]
     },
     "execution_count": 318,
     "metadata": {},
     "output_type": "execute_result"
    }
   ],
   "source": [
    "b < k"
   ]
  },
  {
   "cell_type": "code",
   "execution_count": 320,
   "id": "ebaf5e51-ee3b-4cfc-a333-e7b70d06b705",
   "metadata": {},
   "outputs": [
    {
     "data": {
      "text/plain": [
       "False"
      ]
     },
     "execution_count": 320,
     "metadata": {},
     "output_type": "execute_result"
    }
   ],
   "source": [
    "condition = b<k\n",
    "condition"
   ]
  },
  {
   "cell_type": "code",
   "execution_count": 322,
   "id": "9b18d826-ed90-4343-8674-f0ce4aff532a",
   "metadata": {},
   "outputs": [
    {
     "data": {
      "text/plain": [
       "bool"
      ]
     },
     "execution_count": 322,
     "metadata": {},
     "output_type": "execute_result"
    }
   ],
   "source": [
    "type(condition)"
   ]
  },
  {
   "cell_type": "code",
   "execution_count": 324,
   "id": "d5e008ec-a187-429a-b4a7-28e1f1eecbe6",
   "metadata": {},
   "outputs": [
    {
     "data": {
      "text/plain": [
       "1"
      ]
     },
     "execution_count": 324,
     "metadata": {},
     "output_type": "execute_result"
    }
   ],
   "source": [
    "int(True)"
   ]
  },
  {
   "cell_type": "code",
   "execution_count": 326,
   "id": "19596cd4-b3f0-480f-b3bf-870a40aa5c3b",
   "metadata": {},
   "outputs": [
    {
     "data": {
      "text/plain": [
       "0"
      ]
     },
     "execution_count": 326,
     "metadata": {},
     "output_type": "execute_result"
    }
   ],
   "source": [
    "int(False)"
   ]
  },
  {
   "cell_type": "code",
   "execution_count": 328,
   "id": "12272ff6-06dc-429d-b1e5-4d529c118107",
   "metadata": {},
   "outputs": [
    {
     "name": "stdout",
     "output_type": "stream",
     "text": [
      "[1, 2, 3, 4]\n"
     ]
    },
    {
     "data": {
      "text/plain": [
       "list"
      ]
     },
     "execution_count": 328,
     "metadata": {},
     "output_type": "execute_result"
    }
   ],
   "source": [
    "l = [1,2,3,4]\n",
    "print(l)\n",
    "type(l)"
   ]
  },
  {
   "cell_type": "code",
   "execution_count": 330,
   "id": "4d53e4f7-4707-4ce2-af00-4503f318fb72",
   "metadata": {},
   "outputs": [
    {
     "data": {
      "text/plain": [
       "{1, 2, 3, 4}"
      ]
     },
     "execution_count": 330,
     "metadata": {},
     "output_type": "execute_result"
    }
   ],
   "source": [
    "s = {1,2,3,4}\n",
    "s"
   ]
  },
  {
   "cell_type": "code",
   "execution_count": 332,
   "id": "5d8132ba-ac60-4a98-9c40-bd2e3a269eab",
   "metadata": {},
   "outputs": [
    {
     "data": {
      "text/plain": [
       "set"
      ]
     },
     "execution_count": 332,
     "metadata": {},
     "output_type": "execute_result"
    }
   ],
   "source": [
    "type(s)\n"
   ]
  },
  {
   "cell_type": "code",
   "execution_count": 334,
   "id": "9499be25-5968-4a9e-b52d-7c9d33e3c250",
   "metadata": {},
   "outputs": [
    {
     "data": {
      "text/plain": [
       "{1, 2, 3, 4, 11}"
      ]
     },
     "execution_count": 334,
     "metadata": {},
     "output_type": "execute_result"
    }
   ],
   "source": [
    "s1 = {1,2,3,4,4,3,11} #duplicates are not allowed\n",
    "s1"
   ]
  },
  {
   "cell_type": "code",
   "execution_count": 336,
   "id": "b8bc99d5-b759-402c-a603-054c02a61a61",
   "metadata": {},
   "outputs": [
    {
     "data": {
      "text/plain": [
       "(10, 20, 30)"
      ]
     },
     "execution_count": 336,
     "metadata": {},
     "output_type": "execute_result"
    }
   ],
   "source": [
    "t = (10,20,30)\n",
    "t"
   ]
  },
  {
   "cell_type": "code",
   "execution_count": 338,
   "id": "e304a796-466c-4894-898b-aa171bb3fc32",
   "metadata": {},
   "outputs": [
    {
     "data": {
      "text/plain": [
       "tuple"
      ]
     },
     "execution_count": 338,
     "metadata": {},
     "output_type": "execute_result"
    }
   ],
   "source": [
    "type(t)"
   ]
  },
  {
   "cell_type": "code",
   "execution_count": 340,
   "id": "08dd4984-6b23-4f95-be5c-2ab6b67fbde4",
   "metadata": {},
   "outputs": [
    {
     "data": {
      "text/plain": [
       "str"
      ]
     },
     "execution_count": 340,
     "metadata": {},
     "output_type": "execute_result"
    }
   ],
   "source": [
    "str = 'nit' #we dont have character in python \n",
    "type(str)"
   ]
  },
  {
   "cell_type": "code",
   "execution_count": 342,
   "id": "a9098bee-59f9-4a00-8d37-52231099c3fc",
   "metadata": {},
   "outputs": [
    {
     "data": {
      "text/plain": [
       "str"
      ]
     },
     "execution_count": 342,
     "metadata": {},
     "output_type": "execute_result"
    }
   ],
   "source": [
    "st = 'n'\n",
    "type(st)"
   ]
  },
  {
   "cell_type": "code",
   "execution_count": 344,
   "id": "f71f41b9-bc62-4984-814d-665fc1355c59",
   "metadata": {},
   "outputs": [
    {
     "data": {
      "text/plain": [
       "range(0, 10)"
      ]
     },
     "execution_count": 344,
     "metadata": {},
     "output_type": "execute_result"
    }
   ],
   "source": [
    "r = range(0,10)\n",
    "r"
   ]
  },
  {
   "cell_type": "code",
   "execution_count": 346,
   "id": "576441a4-121d-4779-9109-99006e795132",
   "metadata": {},
   "outputs": [
    {
     "data": {
      "text/plain": [
       "range"
      ]
     },
     "execution_count": 346,
     "metadata": {},
     "output_type": "execute_result"
    }
   ],
   "source": [
    "type(r)"
   ]
  },
  {
   "cell_type": "code",
   "execution_count": 348,
   "id": "6e200a0c-7bab-4fae-9a31-0b77d37e8423",
   "metadata": {},
   "outputs": [
    {
     "data": {
      "text/plain": [
       "[0, 1, 2, 3, 4, 5, 6, 7, 8, 9]"
      ]
     },
     "execution_count": 348,
     "metadata": {},
     "output_type": "execute_result"
    }
   ],
   "source": [
    "# if you want to print the range \n",
    "list(range(0,10))"
   ]
  },
  {
   "cell_type": "code",
   "execution_count": 350,
   "id": "769a4287-13de-4020-8aff-b151461126fc",
   "metadata": {},
   "outputs": [
    {
     "data": {
      "text/plain": [
       "[0, 1, 2, 3, 4, 5, 6, 7, 8, 9]"
      ]
     },
     "execution_count": 350,
     "metadata": {},
     "output_type": "execute_result"
    }
   ],
   "source": [
    "r1 = list(r)\n",
    "r1"
   ]
  },
  {
   "cell_type": "code",
   "execution_count": 352,
   "id": "3c5b5b67-59bc-4912-b14d-96a7f1c7c771",
   "metadata": {},
   "outputs": [
    {
     "data": {
      "text/plain": [
       "[2, 4, 6, 8]"
      ]
     },
     "execution_count": 352,
     "metadata": {},
     "output_type": "execute_result"
    }
   ],
   "source": [
    "#if you want to print even number\n",
    "even_number = list(range(2,10,2))\n",
    "even_number "
   ]
  },
  {
   "cell_type": "code",
   "execution_count": 358,
   "id": "d9e65cc8-73ad-49a7-9ff8-079957532ea3",
   "metadata": {},
   "outputs": [
    {
     "data": {
      "text/plain": [
       "{1: 'one', 2: 'two', 3: 'three'}"
      ]
     },
     "execution_count": 358,
     "metadata": {},
     "output_type": "execute_result"
    }
   ],
   "source": [
    "d= {1:'one', 2:'two', 3:'three'}\n",
    "d    "
   ]
  },
  {
   "cell_type": "code",
   "execution_count": 360,
   "id": "9cf562e1-adc4-4876-b919-6f5bd0509dfd",
   "metadata": {},
   "outputs": [
    {
     "data": {
      "text/plain": [
       "dict"
      ]
     },
     "execution_count": 360,
     "metadata": {},
     "output_type": "execute_result"
    }
   ],
   "source": [
    "type(d)"
   ]
  },
  {
   "cell_type": "code",
   "execution_count": 362,
   "id": "5eae9af6-070f-4735-a554-3c79cd0a9958",
   "metadata": {},
   "outputs": [
    {
     "data": {
      "text/plain": [
       "dict_keys([1, 2, 3])"
      ]
     },
     "execution_count": 362,
     "metadata": {},
     "output_type": "execute_result"
    }
   ],
   "source": [
    "# print the keys \n",
    "d.keys()"
   ]
  },
  {
   "cell_type": "code",
   "execution_count": 364,
   "id": "5c46e092-3a6d-49f0-9d5e-6cf202ae0cf7",
   "metadata": {},
   "outputs": [
    {
     "data": {
      "text/plain": [
       "dict_values(['one', 'two', 'three'])"
      ]
     },
     "execution_count": 364,
     "metadata": {},
     "output_type": "execute_result"
    }
   ],
   "source": [
    "d.values()"
   ]
  },
  {
   "cell_type": "code",
   "execution_count": 366,
   "id": "4f148352-04b6-41b0-96c3-dd70b2e9fe11",
   "metadata": {},
   "outputs": [
    {
     "data": {
      "text/plain": [
       "'two'"
      ]
     },
     "execution_count": 366,
     "metadata": {},
     "output_type": "execute_result"
    }
   ],
   "source": [
    "d[2]"
   ]
  },
  {
   "cell_type": "code",
   "execution_count": 368,
   "id": "aa389c3e-89ee-4e62-81cd-9ff47af044eb",
   "metadata": {},
   "outputs": [
    {
     "data": {
      "text/plain": [
       "'three'"
      ]
     },
     "execution_count": 368,
     "metadata": {},
     "output_type": "execute_result"
    }
   ],
   "source": [
    "d.get(3)"
   ]
  },
  {
   "cell_type": "code",
   "execution_count": null,
   "id": "a1363a42-1f3b-4206-a5dd-066e67bda859",
   "metadata": {},
   "outputs": [],
   "source": [
    "#ARITHMETIC OPERATOR"
   ]
  },
  {
   "cell_type": "code",
   "execution_count": 397,
   "id": "03324be0-1bd2-4263-895d-a0e5ba5fc60f",
   "metadata": {},
   "outputs": [],
   "source": [
    "x1, y1 = 10,5"
   ]
  },
  {
   "cell_type": "code",
   "execution_count": 399,
   "id": "6515dc94-74ab-4982-aa55-89b025d48ca1",
   "metadata": {},
   "outputs": [
    {
     "data": {
      "text/plain": [
       "15"
      ]
     },
     "execution_count": 399,
     "metadata": {},
     "output_type": "execute_result"
    }
   ],
   "source": [
    "x1 + y1"
   ]
  },
  {
   "cell_type": "code",
   "execution_count": 401,
   "id": "bc06f44e-110b-4ce0-bcc4-cead224baf10",
   "metadata": {},
   "outputs": [
    {
     "data": {
      "text/plain": [
       "5"
      ]
     },
     "execution_count": 401,
     "metadata": {},
     "output_type": "execute_result"
    }
   ],
   "source": [
    "x1 -  y1"
   ]
  },
  {
   "cell_type": "code",
   "execution_count": 403,
   "id": "f374c714-bb3b-4723-b429-70e2f6601a6c",
   "metadata": {},
   "outputs": [
    {
     "data": {
      "text/plain": [
       "50"
      ]
     },
     "execution_count": 403,
     "metadata": {},
     "output_type": "execute_result"
    }
   ],
   "source": [
    "x1*y1"
   ]
  },
  {
   "cell_type": "code",
   "execution_count": 405,
   "id": "af2c95f8-9d3d-4c38-9c22-6ceaf077f3ee",
   "metadata": {},
   "outputs": [
    {
     "data": {
      "text/plain": [
       "2.0"
      ]
     },
     "execution_count": 405,
     "metadata": {},
     "output_type": "execute_result"
    }
   ],
   "source": [
    "x1 / y1"
   ]
  },
  {
   "cell_type": "code",
   "execution_count": 407,
   "id": "b1f09fd9-a7c4-445d-8a18-d751f38f4479",
   "metadata": {},
   "outputs": [
    {
     "data": {
      "text/plain": [
       "2"
      ]
     },
     "execution_count": 407,
     "metadata": {},
     "output_type": "execute_result"
    }
   ],
   "source": [
    "x1 // y1"
   ]
  },
  {
   "cell_type": "code",
   "execution_count": 409,
   "id": "2e7e694e-41bb-4ada-82ae-d99200af4c59",
   "metadata": {},
   "outputs": [
    {
     "data": {
      "text/plain": [
       "0"
      ]
     },
     "execution_count": 409,
     "metadata": {},
     "output_type": "execute_result"
    }
   ],
   "source": [
    "x1 % y1"
   ]
  },
  {
   "cell_type": "code",
   "execution_count": 411,
   "id": "1654f8a1-f04b-463e-a872-28f93715521a",
   "metadata": {},
   "outputs": [
    {
     "data": {
      "text/plain": [
       "100000"
      ]
     },
     "execution_count": 411,
     "metadata": {},
     "output_type": "execute_result"
    }
   ],
   "source": [
    "x1 ** y1"
   ]
  },
  {
   "cell_type": "code",
   "execution_count": 413,
   "id": "b78051b8-ca5d-4880-b648-c2dcefcee595",
   "metadata": {},
   "outputs": [],
   "source": [
    "# ASSIGNMENT OPERATOR"
   ]
  },
  {
   "cell_type": "code",
   "execution_count": 415,
   "id": "0bf29500-0ae5-47a5-afa3-4bbcf30176cc",
   "metadata": {},
   "outputs": [],
   "source": [
    "x = 2\n",
    "x = x + 2"
   ]
  },
  {
   "cell_type": "code",
   "execution_count": 417,
   "id": "ea849a7a-7630-4dfc-a8a0-0bcedf8c1f73",
   "metadata": {},
   "outputs": [
    {
     "data": {
      "text/plain": [
       "4"
      ]
     },
     "execution_count": 417,
     "metadata": {},
     "output_type": "execute_result"
    }
   ],
   "source": [
    "x"
   ]
  },
  {
   "cell_type": "code",
   "execution_count": 419,
   "id": "889a06d3-f9be-41f8-9383-57ad08e5f01f",
   "metadata": {},
   "outputs": [
    {
     "data": {
      "text/plain": [
       "6"
      ]
     },
     "execution_count": 419,
     "metadata": {},
     "output_type": "execute_result"
    }
   ],
   "source": [
    "x += 2\n",
    "x"
   ]
  },
  {
   "cell_type": "code",
   "execution_count": 421,
   "id": "f416860e-d738-4cb6-bf42-c0588a92325e",
   "metadata": {},
   "outputs": [
    {
     "data": {
      "text/plain": [
       "8"
      ]
     },
     "execution_count": 421,
     "metadata": {},
     "output_type": "execute_result"
    }
   ],
   "source": [
    "x += 2\n",
    "x"
   ]
  },
  {
   "cell_type": "code",
   "execution_count": 423,
   "id": "3bc2920a-8c66-4ed2-a879-1713e10857fc",
   "metadata": {},
   "outputs": [
    {
     "data": {
      "text/plain": [
       "16"
      ]
     },
     "execution_count": 423,
     "metadata": {},
     "output_type": "execute_result"
    }
   ],
   "source": [
    "x *= 2\n",
    "x"
   ]
  },
  {
   "cell_type": "code",
   "execution_count": 425,
   "id": "7db495b3-d64c-4ed6-9442-60fdb0f68d89",
   "metadata": {},
   "outputs": [
    {
     "data": {
      "text/plain": [
       "14"
      ]
     },
     "execution_count": 425,
     "metadata": {},
     "output_type": "execute_result"
    }
   ],
   "source": [
    "x -= 2\n",
    "x"
   ]
  },
  {
   "cell_type": "code",
   "execution_count": 429,
   "id": "c3c013b0-5be9-43ca-aa16-503a8dd414c4",
   "metadata": {},
   "outputs": [
    {
     "data": {
      "text/plain": [
       "3.5"
      ]
     },
     "execution_count": 429,
     "metadata": {},
     "output_type": "execute_result"
    }
   ],
   "source": [
    "x /= 2\n",
    "x"
   ]
  },
  {
   "cell_type": "code",
   "execution_count": 433,
   "id": "bd7023b5-5d3b-442e-97b9-e4ca38f2ccd4",
   "metadata": {},
   "outputs": [],
   "source": [
    "# UNARY OPERATOR"
   ]
  },
  {
   "cell_type": "code",
   "execution_count": 435,
   "id": "364ff604-f59b-41d9-922c-47a90042da96",
   "metadata": {},
   "outputs": [],
   "source": [
    "n = 7 "
   ]
  },
  {
   "cell_type": "code",
   "execution_count": 437,
   "id": "d01276fc-2a9f-41d2-aeb4-02cc9788a3e8",
   "metadata": {},
   "outputs": [],
   "source": [
    "m = -(n)"
   ]
  },
  {
   "cell_type": "code",
   "execution_count": 439,
   "id": "27b43540-7a68-4439-966b-89bd1237e8a2",
   "metadata": {},
   "outputs": [
    {
     "data": {
      "text/plain": [
       "-7"
      ]
     },
     "execution_count": 439,
     "metadata": {},
     "output_type": "execute_result"
    }
   ],
   "source": [
    "m"
   ]
  },
  {
   "cell_type": "code",
   "execution_count": 441,
   "id": "c4c8b62d-2794-4bd6-ae3b-ae5dd72ef5bb",
   "metadata": {},
   "outputs": [
    {
     "data": {
      "text/plain": [
       "7"
      ]
     },
     "execution_count": 441,
     "metadata": {},
     "output_type": "execute_result"
    }
   ],
   "source": [
    "n"
   ]
  },
  {
   "cell_type": "code",
   "execution_count": 443,
   "id": "9d985b45-bd08-4fca-9c3b-2a65d16dd526",
   "metadata": {},
   "outputs": [
    {
     "data": {
      "text/plain": [
       "-7"
      ]
     },
     "execution_count": 443,
     "metadata": {},
     "output_type": "execute_result"
    }
   ],
   "source": [
    "-n"
   ]
  },
  {
   "cell_type": "code",
   "execution_count": 445,
   "id": "3d27187b-c0d9-4541-a3ef-9ab9c35cc203",
   "metadata": {},
   "outputs": [],
   "source": [
    "#RELATIONAL OPERATOR"
   ]
  },
  {
   "cell_type": "code",
   "execution_count": 447,
   "id": "d66f27e4-9778-4f09-83db-2cc3fa116102",
   "metadata": {},
   "outputs": [],
   "source": [
    "a = 5\n",
    "b = 7"
   ]
  },
  {
   "cell_type": "code",
   "execution_count": 449,
   "id": "9542763e-d1e1-42b1-9e25-3a9cedcc1826",
   "metadata": {},
   "outputs": [
    {
     "data": {
      "text/plain": [
       "False"
      ]
     },
     "execution_count": 449,
     "metadata": {},
     "output_type": "execute_result"
    }
   ],
   "source": [
    "a==b"
   ]
  },
  {
   "cell_type": "code",
   "execution_count": 451,
   "id": "858d3a7a-dc4a-43a7-9f6f-9ba9546a73c9",
   "metadata": {},
   "outputs": [
    {
     "data": {
      "text/plain": [
       "True"
      ]
     },
     "execution_count": 451,
     "metadata": {},
     "output_type": "execute_result"
    }
   ],
   "source": [
    "a<b"
   ]
  },
  {
   "cell_type": "code",
   "execution_count": 453,
   "id": "f74afb18-40e7-40b2-868a-86cb2cfefcdd",
   "metadata": {},
   "outputs": [
    {
     "data": {
      "text/plain": [
       "False"
      ]
     },
     "execution_count": 453,
     "metadata": {},
     "output_type": "execute_result"
    }
   ],
   "source": [
    "a>b"
   ]
  },
  {
   "cell_type": "code",
   "execution_count": 457,
   "id": "fc12435d-1c55-4768-873e-6af2db832e6a",
   "metadata": {},
   "outputs": [
    {
     "data": {
      "text/plain": [
       "True"
      ]
     },
     "execution_count": 457,
     "metadata": {},
     "output_type": "execute_result"
    }
   ],
   "source": [
    "a != b"
   ]
  },
  {
   "cell_type": "code",
   "execution_count": 464,
   "id": "52eacd8a-656d-4472-8ccf-d425a2e6c319",
   "metadata": {},
   "outputs": [
    {
     "data": {
      "text/plain": [
       "False"
      ]
     },
     "execution_count": 464,
     "metadata": {},
     "output_type": "execute_result"
    }
   ],
   "source": [
    "a >= b"
   ]
  },
  {
   "cell_type": "code",
   "execution_count": 466,
   "id": "9119c021-ce1f-4f87-8cd4-aac2a5384f02",
   "metadata": {},
   "outputs": [
    {
     "data": {
      "text/plain": [
       "True"
      ]
     },
     "execution_count": 466,
     "metadata": {},
     "output_type": "execute_result"
    }
   ],
   "source": [
    "a <= b"
   ]
  },
  {
   "cell_type": "code",
   "execution_count": 468,
   "id": "fc7f8eb1-c00d-4b1f-be4c-9fae9a5beff1",
   "metadata": {},
   "outputs": [],
   "source": [
    "#LOGICAL OPERATOR"
   ]
  },
  {
   "cell_type": "code",
   "execution_count": 470,
   "id": "eb27ed83-bc2a-4128-941e-54d0e868be2b",
   "metadata": {},
   "outputs": [],
   "source": [
    "a = 5\n",
    "b = 4"
   ]
  },
  {
   "cell_type": "code",
   "execution_count": 472,
   "id": "bfed33a0-2461-4b43-9403-ade3b1c58182",
   "metadata": {},
   "outputs": [
    {
     "data": {
      "text/plain": [
       "True"
      ]
     },
     "execution_count": 472,
     "metadata": {},
     "output_type": "execute_result"
    }
   ],
   "source": [
    "a < 8 and b < 5 #refer to the truth table "
   ]
  },
  {
   "cell_type": "code",
   "execution_count": 474,
   "id": "3e07e886-150e-4072-bbb7-a58e38df3e03",
   "metadata": {},
   "outputs": [
    {
     "data": {
      "text/plain": [
       "False"
      ]
     },
     "execution_count": 474,
     "metadata": {},
     "output_type": "execute_result"
    }
   ],
   "source": [
    "a < 8 and b < 2"
   ]
  },
  {
   "cell_type": "code",
   "execution_count": 478,
   "id": "3340b223-b7aa-4970-9704-0da6879d3bee",
   "metadata": {},
   "outputs": [
    {
     "data": {
      "text/plain": [
       "True"
      ]
     },
     "execution_count": 478,
     "metadata": {},
     "output_type": "execute_result"
    }
   ],
   "source": [
    "a < 8 or b < 2"
   ]
  },
  {
   "cell_type": "code",
   "execution_count": 480,
   "id": "4899606c-f3a4-4f87-9afd-836c15c4a341",
   "metadata": {},
   "outputs": [
    {
     "data": {
      "text/plain": [
       "False"
      ]
     },
     "execution_count": 480,
     "metadata": {},
     "output_type": "execute_result"
    }
   ],
   "source": [
    "a>8 or b<2"
   ]
  },
  {
   "cell_type": "code",
   "execution_count": 482,
   "id": "52115d0c-53a1-4592-aec7-7ba59e416830",
   "metadata": {},
   "outputs": [
    {
     "data": {
      "text/plain": [
       "False"
      ]
     },
     "execution_count": 482,
     "metadata": {},
     "output_type": "execute_result"
    }
   ],
   "source": [
    "x = False\n",
    "x"
   ]
  },
  {
   "cell_type": "code",
   "execution_count": 484,
   "id": "5d2284ad-a7b5-4edf-b1b3-34f2c2785468",
   "metadata": {},
   "outputs": [
    {
     "data": {
      "text/plain": [
       "True"
      ]
     },
     "execution_count": 484,
     "metadata": {},
     "output_type": "execute_result"
    }
   ],
   "source": [
    "not x  # you can reverse the operation"
   ]
  },
  {
   "cell_type": "code",
   "execution_count": 486,
   "id": "f8b21ff9-21bd-42a4-907e-bbce13837daa",
   "metadata": {},
   "outputs": [
    {
     "data": {
      "text/plain": [
       "True"
      ]
     },
     "execution_count": 486,
     "metadata": {},
     "output_type": "execute_result"
    }
   ],
   "source": [
    "x = not x\n",
    "x"
   ]
  },
  {
   "cell_type": "code",
   "execution_count": null,
   "id": "699ecd95-cdb8-4cb9-9029-6cd5fbd51021",
   "metadata": {},
   "outputs": [],
   "source": []
  }
 ],
 "metadata": {
  "kernelspec": {
   "display_name": "Python 3 (ipykernel)",
   "language": "python",
   "name": "python3"
  },
  "language_info": {
   "codemirror_mode": {
    "name": "ipython",
    "version": 3
   },
   "file_extension": ".py",
   "mimetype": "text/x-python",
   "name": "python",
   "nbconvert_exporter": "python",
   "pygments_lexer": "ipython3",
   "version": "3.12.7"
  }
 },
 "nbformat": 4,
 "nbformat_minor": 5
}
